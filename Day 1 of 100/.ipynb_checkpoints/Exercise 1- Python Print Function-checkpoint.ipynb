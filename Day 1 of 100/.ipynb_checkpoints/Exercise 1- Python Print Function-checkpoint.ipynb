{
 "cells": [
  {
   "cell_type": "markdown",
   "id": "b41a726d",
   "metadata": {},
   "source": [
    "### Excercise 1 - Printing\n",
    "#### Instructions\n",
    "Write a program in main.py that prints the same notes from the previous lesson using what you have learnt about the Python print function.\n",
    "\n",
    "<mark><b>Warning:</b></mark> The output in your program should match the example output shown below exactly, character for character, even spaces and symbols should be identical, otherwise the tests won't pass.\n",
    "\n",
    "<b>Example Output:</b>\n",
    "After you have written your code, you should run your program and it should print the following:\n",
    "\n",
    ">Day 1 - Python Print Function\n",
    "\n",
    ">The function is declared like this:\n",
    "\n",
    ">print('what to print')"
   ]
  },
  {
   "cell_type": "code",
   "execution_count": 3,
   "id": "7c7e0d78",
   "metadata": {},
   "outputs": [
    {
     "name": "stdout",
     "output_type": "stream",
     "text": [
      "Day 1 - Python Print Function\n",
      "The function is declared like this:\n",
      "print ('what to print')\n"
     ]
    }
   ],
   "source": [
    "'''Herer is my Day 1: Excercise 1 - Printing'\n",
    "\n",
    "print (\"Day 1 - Python Print Function\")\n",
    "print (\"The function is declared like this:\")\n",
    "print (\"print ('what to print')\")"
   ]
  },
  {
   "cell_type": "markdown",
   "id": "19a4d284",
   "metadata": {},
   "source": []
  }
 ],
 "metadata": {
  "kernelspec": {
   "display_name": "Python 3 (ipykernel)",
   "language": "python",
   "name": "python3"
  },
  "language_info": {
   "codemirror_mode": {
    "name": "ipython",
    "version": 3
   },
   "file_extension": ".py",
   "mimetype": "text/x-python",
   "name": "python",
   "nbconvert_exporter": "python",
   "pygments_lexer": "ipython3",
   "version": "3.9.12"
  }
 },
 "nbformat": 4,
 "nbformat_minor": 5
}
